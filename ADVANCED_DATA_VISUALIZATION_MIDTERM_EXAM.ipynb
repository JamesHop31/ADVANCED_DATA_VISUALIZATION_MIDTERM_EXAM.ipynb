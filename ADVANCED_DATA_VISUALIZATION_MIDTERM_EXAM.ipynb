{
  "nbformat": 4,
  "nbformat_minor": 0,
  "metadata": {
    "colab": {
      "provenance": [],
      "authorship_tag": "ABX9TyNstUsCHQc+oOV6Dt8+SB75",
      "include_colab_link": true
    },
    "kernelspec": {
      "name": "python3",
      "display_name": "Python 3"
    },
    "language_info": {
      "name": "python"
    }
  },
  "cells": [
    {
      "cell_type": "markdown",
      "metadata": {
        "id": "view-in-github",
        "colab_type": "text"
      },
      "source": [
        "<a href=\"https://colab.research.google.com/github/JamesHop31/ADVANCED_DATA_VISUALIZATION_MIDTERM_EXAM.ipynb/blob/main/ADVANCED_DATA_VISUALIZATION_MIDTERM_EXAM.ipynb\" target=\"_parent\"><img src=\"https://colab.research.google.com/assets/colab-badge.svg\" alt=\"Open In Colab\"/></a>"
      ]
    },
    {
      "cell_type": "code",
      "execution_count": null,
      "metadata": {
        "colab": {
          "base_uri": "https://localhost:8080/"
        },
        "id": "MnMEKdv5s786",
        "outputId": "7ec8701a-62fd-4c82-8774-cb5c469cfd4a"
      },
      "outputs": [
        {
          "output_type": "stream",
          "name": "stdout",
          "text": [
            "What is your name? james\n",
            "Hello James\n",
            "How old are you? 23\n",
            "You are 23 years old\n"
          ]
        }
      ],
      "source": [
        "name = input(\"What is your name? \")\n",
        "print(\"Hello\", name.capitalize())\n",
        "age = input(\"How old are you? \")\n",
        "print(\"You are\", age, \"years old\")"
      ]
    },
    {
      "cell_type": "code",
      "source": [
        "s = \"pizza\"\n",
        "t = s.capitalize()\n",
        "\n",
        "print(t)"
      ],
      "metadata": {
        "colab": {
          "base_uri": "https://localhost:8080/"
        },
        "id": "td9e3_M4tGd8",
        "outputId": "fff6d34b-5e09-437a-fef7-57b60df83176"
      },
      "execution_count": null,
      "outputs": [
        {
          "output_type": "stream",
          "name": "stdout",
          "text": [
            "Pizza\n"
          ]
        }
      ]
    },
    {
      "cell_type": "code",
      "source": [
        "s = \"pizza\"\n",
        "t = s.upper()\n",
        "\n",
        "print(t)"
      ],
      "metadata": {
        "colab": {
          "base_uri": "https://localhost:8080/"
        },
        "id": "1ZHLFgyZtRsu",
        "outputId": "b22a76c7-e5a8-4162-963b-dae73f1d6296"
      },
      "execution_count": null,
      "outputs": [
        {
          "output_type": "stream",
          "name": "stdout",
          "text": [
            "PIZZA\n"
          ]
        }
      ]
    },
    {
      "cell_type": "code",
      "source": [
        "s = \"pizza\"\n",
        "t = s.lower()\n",
        "print(t)\n"
      ],
      "metadata": {
        "colab": {
          "base_uri": "https://localhost:8080/"
        },
        "id": "llR5TsjDtmpw",
        "outputId": "874c72d3-517e-4df7-8675-dc21544ed37b"
      },
      "execution_count": null,
      "outputs": [
        {
          "output_type": "stream",
          "name": "stdout",
          "text": [
            "pizza\n"
          ]
        }
      ]
    },
    {
      "cell_type": "markdown",
      "source": [],
      "metadata": {
        "id": "3e-6pkmRtXIv"
      }
    },
    {
      "cell_type": "code",
      "source": [
        "name = \"Read\"\n",
        "name.replace('R' , 'P'). replace('d' , 'l')"
      ],
      "metadata": {
        "colab": {
          "base_uri": "https://localhost:8080/",
          "height": 36
        },
        "id": "QrFL0GyFtuNT",
        "outputId": "716b2130-0374-40d0-ece8-42ca8e3470c7"
      },
      "execution_count": null,
      "outputs": [
        {
          "output_type": "execute_result",
          "data": {
            "text/plain": [
              "'Peal'"
            ],
            "application/vnd.google.colaboratory.intrinsic+json": {
              "type": "string"
            }
          },
          "metadata": {},
          "execution_count": 11
        }
      ]
    },
    {
      "cell_type": "code",
      "source": [
        "a = 2\n",
        "b = 3\n",
        "c = 2.3\n",
        "d = True\n",
        "type(a), type(b), type (c), type(d)"
      ],
      "metadata": {
        "colab": {
          "base_uri": "https://localhost:8080/"
        },
        "id": "hHdULj6bwDPA",
        "outputId": "2e48d187-c194-4ab8-8a69-ab43068f75a5"
      },
      "execution_count": null,
      "outputs": [
        {
          "output_type": "execute_result",
          "data": {
            "text/plain": [
              "(int, int, float, bool)"
            ]
          },
          "metadata": {},
          "execution_count": 25
        }
      ]
    },
    {
      "cell_type": "code",
      "source": [
        "name = input(\"What is your name?\")\n",
        "print(f\"Hello {name}!\")\n",
        "birth_year = input(\"What is your birth year?\")        \n",
        "birth_year = int(birth_year)\n",
        "print(f\"You are {(2023-birth_year)} years old!\")"
      ],
      "metadata": {
        "colab": {
          "base_uri": "https://localhost:8080/"
        },
        "id": "EUbJn6AdyKpL",
        "outputId": "9c5e4a30-ff9a-4498-ff47-aea1dbd26f0c"
      },
      "execution_count": null,
      "outputs": [
        {
          "output_type": "stream",
          "name": "stdout",
          "text": [
            "What is your name?james\n",
            "Hello james!\n",
            "What is your birth year?2000\n",
            "You are 23 years old!\n"
          ]
        }
      ]
    },
    {
      "cell_type": "code",
      "source": [
        "s1=input(\"Enter the first number: \")\n",
        "s2=input(\"Enter the second number: \")\n",
        "Add= float(s1)+float(s2)\n",
        "print('Sum: {1} + {1} = {2}'.format(s1, s2, Add))\n",
        "Subtract= float(s1)-float(s2)\n",
        "print('Difference: {1} - {1} = {2}'.format(s1, s2, Subtract))\n",
        "Multiply= float(s1)*float(s2)\n",
        "print('Product: {1} * {1} = {2}'.format(s1, s2, Multiply))\n",
        "Divide= float(s1)/float(s2)\n",
        "print('Quotient: {1} / {1} = {2}'.format(s1, s2, Divide))\n",
        "Exponent= float(s1)**float(s2)\n",
        "print('Power: {1} ** {1} = {2}'.format(s1, s2, Exponent))\n",
        "Remainder= float(s1)%float(s2)\n",
        "print('Division with Remainder: {0} / {1} = 0.0\\\\n Remainder: {2}'.format(s1, s2, Remainder))"
      ],
      "metadata": {
        "colab": {
          "base_uri": "https://localhost:8080/"
        },
        "id": "cRdN_nrH0bKI",
        "outputId": "13ccf287-dd97-4e8a-ecc0-9cb574e9b7b7"
      },
      "execution_count": null,
      "outputs": [
        {
          "output_type": "stream",
          "name": "stdout",
          "text": [
            "Enter the first number: 5\n",
            "Enter the second number: 4\n",
            "Sum: 4 + 4 = 9.0\n",
            "Difference: 4 - 4 = 1.0\n",
            "Product: 4 * 4 = 20.0\n",
            "Quotient: 4 / 4 = 1.25\n",
            "Power: 4 ** 4 = 625.0\n",
            "Division with Remainder: 5 / 4 = 0.0\\n Remainder: 1.0\n"
          ]
        }
      ]
    },
    {
      "cell_type": "code",
      "source": [
        "if 5 + 10:\n",
        "  print(\"5 and 10 is not equal\")"
      ],
      "metadata": {
        "colab": {
          "base_uri": "https://localhost:8080/"
        },
        "id": "iAc4xqsh1ygm",
        "outputId": "9394bb50-1ecd-4d2c-da56-7f88a3bfe758"
      },
      "execution_count": 1,
      "outputs": [
        {
          "output_type": "stream",
          "name": "stdout",
          "text": [
            "5 and 10 is not equal\n"
          ]
        }
      ]
    },
    {
      "cell_type": "code",
      "source": [
        "choice = int(input(\"Enter your choice:\"))\n",
        "print(\"Enter two numbers: \")\n",
        "num1 = float(input())\n",
        "num2 = float(input())"
      ],
      "metadata": {
        "colab": {
          "base_uri": "https://localhost:8080/"
        },
        "id": "STDU9I8WeufJ",
        "outputId": "a361460d-37da-4f94-9dbf-f10b95024900"
      },
      "execution_count": 5,
      "outputs": [
        {
          "name": "stdout",
          "output_type": "stream",
          "text": [
            "Enter your choice:15\n",
            "Enter two numbers: \n",
            "2\n",
            "3\n"
          ]
        }
      ]
    },
    {
      "cell_type": "code",
      "source": [
        "if choice == 1:\n",
        "  res = num1 + num2\n",
        "  print(\"Result = \", res)\n",
        "elif choice == 2:\n",
        "  res = num1 - num2\n",
        "  print(\"Result = \", res)\n",
        "elif choice == 3:\n",
        "  res = num1 * num2\n",
        "  print(\"Result = \", res)\n",
        "elif choice == 4:\n",
        "  res = num1 / num2\n",
        "  print(\"Result = \", res)\n",
        "elif choice == 5:\n",
        "  exit()\n",
        "else:\n",
        "  print(\"Wrong output\")"
      ],
      "metadata": {
        "colab": {
          "base_uri": "https://localhost:8080/"
        },
        "id": "gLMAEm8Ue7t4",
        "outputId": "3ee04eed-401b-4250-bd38-302034eb5fb6"
      },
      "execution_count": 6,
      "outputs": [
        {
          "output_type": "stream",
          "name": "stdout",
          "text": [
            "Wrong output\n"
          ]
        }
      ]
    },
    {
      "cell_type": "code",
      "source": [
        "thislist = [\"apple\", \"banana\", \"cherry\"]\n",
        "\n",
        "print(\"thislist['cherry']\")"
      ],
      "metadata": {
        "colab": {
          "base_uri": "https://localhost:8080/"
        },
        "id": "yxvo60ksexG0",
        "outputId": "67954f1e-7e7c-4359-9a6b-64a9663d3b7e"
      },
      "execution_count": 7,
      "outputs": [
        {
          "output_type": "stream",
          "name": "stdout",
          "text": [
            "thislist['cherry']\n"
          ]
        }
      ]
    },
    {
      "cell_type": "code",
      "source": [
        "thislist = [\"apple\", \"blackcurrant\", \"cherry\"]\n",
        "thislist[1] = \"blackcurrant\"\n",
        "\n",
        "print(thislist)"
      ],
      "metadata": {
        "colab": {
          "base_uri": "https://localhost:8080/"
        },
        "id": "byk6XedBf0-t",
        "outputId": "915727fe-9989-4415-c787-53c3bb05a824"
      },
      "execution_count": 8,
      "outputs": [
        {
          "output_type": "stream",
          "name": "stdout",
          "text": [
            "['apple', 'blackcurrant', 'cherry']\n"
          ]
        }
      ]
    },
    {
      "cell_type": "code",
      "source": [
        "thislist = [\"apple\", \"banana\", \"cherry\"]\n",
        "thislist.append(\"orange\")\n",
        "print(thislist)"
      ],
      "metadata": {
        "colab": {
          "base_uri": "https://localhost:8080/"
        },
        "id": "xgG7MsZbf5aO",
        "outputId": "ec43df82-5486-4d94-b50f-2bc1d35e99d1"
      },
      "execution_count": 9,
      "outputs": [
        {
          "output_type": "stream",
          "name": "stdout",
          "text": [
            "['apple', 'banana', 'cherry', 'orange']\n"
          ]
        }
      ]
    },
    {
      "cell_type": "code",
      "source": [
        "x = [7, 4, 3, 2, 5]\n",
        "x.remove(5)\n",
        "print(x)"
      ],
      "metadata": {
        "colab": {
          "base_uri": "https://localhost:8080/"
        },
        "id": "5E6aEmUtf9Yv",
        "outputId": "b518e24e-f719-4ad2-e9a6-c0195c50aeed"
      },
      "execution_count": 10,
      "outputs": [
        {
          "output_type": "stream",
          "name": "stdout",
          "text": [
            "[7, 4, 3, 2]\n"
          ]
        }
      ]
    },
    {
      "cell_type": "code",
      "source": [
        "z = [7, 5, 3, 3]\n",
        "print(z.pop(1))\n",
        "print(z)"
      ],
      "metadata": {
        "colab": {
          "base_uri": "https://localhost:8080/"
        },
        "id": "iGIf_bBigBn1",
        "outputId": "016bb456-21e2-4dfb-d284-d8d015041012"
      },
      "execution_count": 11,
      "outputs": [
        {
          "output_type": "stream",
          "name": "stdout",
          "text": [
            "5\n",
            "[7, 3, 3]\n"
          ]
        }
      ]
    },
    {
      "cell_type": "code",
      "source": [
        "x = [1, 2, 3]\n",
        "x.extend([4,5])\n",
        "print(x)"
      ],
      "metadata": {
        "colab": {
          "base_uri": "https://localhost:8080/"
        },
        "id": "UtVYbD46gFu9",
        "outputId": "f3271f46-d7c1-475b-d463-d8128bfb4c77"
      },
      "execution_count": 12,
      "outputs": [
        {
          "output_type": "stream",
          "name": "stdout",
          "text": [
            "[1, 2, 3, 4, 5]\n"
          ]
        }
      ]
    },
    {
      "cell_type": "code",
      "source": [
        "z = [1, 2, 3, 4, 5]\n",
        "z.insert(4, [1, 2])\n",
        "print(z)"
      ],
      "metadata": {
        "colab": {
          "base_uri": "https://localhost:8080/"
        },
        "id": "gyoGCRuugKM4",
        "outputId": "eed17676-1b29-43db-ddf7-3aabc797d38a"
      },
      "execution_count": 13,
      "outputs": [
        {
          "output_type": "stream",
          "name": "stdout",
          "text": [
            "[1, 2, 3, 4, [1, 2], 5]\n"
          ]
        }
      ]
    },
    {
      "cell_type": "code",
      "source": [
        "import numpy\n",
        "lst = [1, 7, 0, 6, 2, 5, 6]\n",
        "arr = numpy.asarray(lst)\n",
        "(\"1,7,0,6,2,5,6\", lst)\n",
        "(\"numpy: \", arr)\n",
        "arr1 = numpy.asarray(arr)\n",
        "(\"arr: \" , arr1)\n",
        "arr1[3] = 23\n",
        "(\"lst: \" , lst) \n",
        "(\"arr1: \" , arr1)"
      ],
      "metadata": {
        "colab": {
          "base_uri": "https://localhost:8080/"
        },
        "id": "FsFbtD0ggOFf",
        "outputId": "a6a961b1-b3ed-48df-b7ba-6ef958146c83"
      },
      "execution_count": 14,
      "outputs": [
        {
          "output_type": "execute_result",
          "data": {
            "text/plain": [
              "('arr1: ', array([ 1,  7,  0, 23,  2,  5,  6]))"
            ]
          },
          "metadata": {},
          "execution_count": 14
        }
      ]
    }
  ]
}